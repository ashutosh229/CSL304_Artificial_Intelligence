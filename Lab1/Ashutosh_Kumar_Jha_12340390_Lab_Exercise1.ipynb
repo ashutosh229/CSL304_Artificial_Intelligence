{
 "cells": [
  {
   "cell_type": "code",
   "execution_count": 1,
   "id": "dfb72fbe",
   "metadata": {},
   "outputs": [],
   "source": [
    "import heapq"
   ]
  },
  {
   "cell_type": "code",
   "execution_count": 11,
   "id": "46bd3d4f",
   "metadata": {},
   "outputs": [],
   "source": [
    "def solvable(start_state):\n",
    "    list_start_state = [value for value in start_state if value != 0]\n",
    "    inversion_count = 0\n",
    "    for i in range(len(list_start_state)):\n",
    "        for j in range(i + 1, len(list_start_state)):\n",
    "            if list_start_state[i] > list_start_state[j]:\n",
    "                inversion_count = inversion_count + 1\n",
    "    return inversion_count % 2 == 0"
   ]
  },
  {
   "cell_type": "code",
   "execution_count": 12,
   "id": "1b7820d2",
   "metadata": {},
   "outputs": [],
   "source": [
    "def heuristic_function(current_state, goal_state):\n",
    "    heuristic_value = 0\n",
    "    for value in range(1, 9):\n",
    "        current_index = current_state.index(value)\n",
    "        goal_index = goal_state.index(value)\n",
    "        current_x1, current_y1 = divmod(current_index, 3)\n",
    "        goal_x1, goal_y1 = divmod(goal_index, 3)\n",
    "        heuristic_value = (\n",
    "            heuristic_value + abs(goal_y1 - current_y1) + abs(goal_x1 - current_x1)\n",
    "        )\n",
    "    return heuristic_value"
   ]
  },
  {
   "cell_type": "code",
   "execution_count": 13,
   "id": "f56599de",
   "metadata": {},
   "outputs": [],
   "source": [
    "def goal_test(current_state, goal_state):\n",
    "    if current_state == goal_state:\n",
    "        return True\n",
    "    else:\n",
    "        return False"
   ]
  },
  {
   "cell_type": "code",
   "execution_count": 14,
   "id": "baf54aad",
   "metadata": {},
   "outputs": [],
   "source": [
    "def path_tracker(parent, current_state):\n",
    "    path = [current_state]\n",
    "    while current_state in parent:\n",
    "        current_state = parent[current_state]\n",
    "        path.append(current_state)\n",
    "    return path[::-1]"
   ]
  },
  {
   "cell_type": "code",
   "execution_count": 15,
   "id": "9919b2fe",
   "metadata": {},
   "outputs": [],
   "source": [
    "def neighbour_tracker(current_state):\n",
    "    neighbours = []\n",
    "    blank_index = current_state.index(0)\n",
    "    blank_x, blank_y = divmod(blank_index, 3)\n",
    "    moves = [{\"up\": (-1, 0)}, {\"down\": (1, 0)}, {\"left\": (0, -1)}, {\"right\": (0, 1)}]\n",
    "    for move in moves:\n",
    "        move_type = list(move.items())[0][0]\n",
    "        x_change = list(move.items())[0][1][0]\n",
    "        y_change = list(move.items())[0][1][1]\n",
    "        new_x = blank_x + x_change\n",
    "        new_y = blank_y + y_change\n",
    "        if (new_x >= 0 and new_x <= 2) and (new_y >= 0 and new_y <= 2):\n",
    "            new_index = new_x * 3 + new_y\n",
    "            list_current_state = list(current_state)\n",
    "            list_current_state[blank_index], list_current_state[new_index] = (\n",
    "                list_current_state[new_index],\n",
    "                list_current_state[blank_index],\n",
    "            )\n",
    "            neighbours.append(tuple(list_current_state))\n",
    "    return neighbours"
   ]
  },
  {
   "cell_type": "code",
   "execution_count": 16,
   "id": "c9e7078f",
   "metadata": {},
   "outputs": [],
   "source": [
    "def a_star_algorithm(start_state, goal_state):\n",
    "    open = []\n",
    "    parent = {}\n",
    "    heuristic_score = {start_state: 0}\n",
    "    heapq.heappush(open, (heuristic_function(start_state, goal_state), 0, start_state))\n",
    "    while open:\n",
    "        heuristic_value, actual_cost_value, current_state = heapq.heappop(open)\n",
    "        if goal_test(current_state, goal_state):\n",
    "            return path_tracker(parent, current_state)\n",
    "        else:\n",
    "            neighbours = neighbour_tracker(current_state)\n",
    "            for neighbour in neighbours:\n",
    "                estimated_heuristic_score = heuristic_score[current_state] + 1\n",
    "                if (\n",
    "                    neighbour not in heuristic_score\n",
    "                    or estimated_heuristic_score < heuristic_score[neighbour]\n",
    "                ):\n",
    "                    parent[neighbour] = current_state\n",
    "                    heuristic_score[neighbour] = estimated_heuristic_score\n",
    "                    evaluation_value = estimated_heuristic_score + heuristic_function(\n",
    "                        neighbour, goal_state\n",
    "                    )\n",
    "                    heapq.heappush(\n",
    "                        open, (evaluation_value, estimated_heuristic_score, neighbour)\n",
    "                    )\n",
    "    return None"
   ]
  },
  {
   "cell_type": "code",
   "execution_count": 17,
   "id": "581d6285",
   "metadata": {},
   "outputs": [],
   "source": [
    "def main():\n",
    "    start_state = (1, 2, 3, 4, 0, 6, 7, 5, 8)\n",
    "    goal_state = (1, 2, 3, 4, 5, 6, 7, 8, 0)\n",
    "\n",
    "    if not solvable(start_state):\n",
    "        print(\"The problem with the given start state and goal state is not solvable\")\n",
    "    else:\n",
    "        path = a_star_algorithm(start_state, goal_state)\n",
    "        if path:\n",
    "            for node in path:\n",
    "                for i in range(0, 9, 3):\n",
    "                    print(node[i : i + 3])\n",
    "                print()\n",
    "        else:\n",
    "            print(\n",
    "                \"No solution exists to the problem with the given start and goal state\"\n",
    "            )"
   ]
  },
  {
   "cell_type": "code",
   "execution_count": 19,
   "id": "8bb206db",
   "metadata": {},
   "outputs": [
    {
     "name": "stdout",
     "output_type": "stream",
     "text": [
      "(1, 2, 3)\n",
      "(4, 0, 6)\n",
      "(7, 5, 8)\n",
      "\n",
      "(1, 2, 3)\n",
      "(4, 5, 6)\n",
      "(7, 0, 8)\n",
      "\n",
      "(1, 2, 3)\n",
      "(4, 5, 6)\n",
      "(7, 8, 0)\n",
      "\n"
     ]
    }
   ],
   "source": [
    "main()"
   ]
  }
 ],
 "metadata": {
  "kernelspec": {
   "display_name": "base",
   "language": "python",
   "name": "python3"
  },
  "language_info": {
   "codemirror_mode": {
    "name": "ipython",
    "version": 3
   },
   "file_extension": ".py",
   "mimetype": "text/x-python",
   "name": "python",
   "nbconvert_exporter": "python",
   "pygments_lexer": "ipython3",
   "version": "3.11.5"
  }
 },
 "nbformat": 4,
 "nbformat_minor": 5
}
