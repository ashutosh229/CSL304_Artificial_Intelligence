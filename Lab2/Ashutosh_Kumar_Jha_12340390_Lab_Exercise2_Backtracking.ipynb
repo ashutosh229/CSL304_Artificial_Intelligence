{
  "nbformat": 4,
  "nbformat_minor": 0,
  "metadata": {
    "colab": {
      "provenance": []
    },
    "kernelspec": {
      "name": "python3",
      "display_name": "Python 3"
    },
    "language_info": {
      "name": "python"
    }
  },
  "cells": [
    {
      "cell_type": "code",
      "source": [
        "def safe_state(graph,node,path,state):\n",
        "  start_node = path[node-1]\n",
        "  end_node = state\n",
        "  if (graph[start_node][end_node]==0):\n",
        "    return False\n",
        "  if state in path:\n",
        "    return False\n",
        "  return True"
      ],
      "metadata": {
        "id": "r4YsG0MBuIqe"
      },
      "execution_count": 18,
      "outputs": []
    },
    {
      "cell_type": "code",
      "source": [
        "def hamiltonian_cycle(graph,node,path,source):\n",
        "  n = len(graph)\n",
        "  if (node==n):\n",
        "    start_node = path[node-1]\n",
        "    end_node = path[source]\n",
        "    if (graph[start_node][end_node]==1):\n",
        "      return True\n",
        "  for state in range(1,n):\n",
        "    if safe_state(graph,node,path,state):\n",
        "      path[node] = state\n",
        "      if hamiltonian_cycle(graph,node+1,path,source):\n",
        "        return True\n",
        "      path[node] = -1\n",
        "  return False"
      ],
      "metadata": {
        "id": "Sv2xTMeRsmfu"
      },
      "execution_count": 19,
      "outputs": []
    },
    {
      "cell_type": "code",
      "source": [
        "def hamiltonian_cycle_finder(graph,source):\n",
        "  n = len(graph)\n",
        "  path = [-1]*n\n",
        "  path[0] = source\n",
        "  if not hamiltonian_cycle(graph,source+1,path,source):\n",
        "    return False\n",
        "  else:\n",
        "    return (path + [path[0]])"
      ],
      "metadata": {
        "id": "GMO-ftQsrOBR"
      },
      "execution_count": 20,
      "outputs": []
    },
    {
      "cell_type": "code",
      "execution_count": 34,
      "metadata": {
        "id": "csweW7xXoJ0L"
      },
      "outputs": [],
      "source": [
        "def main(graph,source):\n",
        "  result = hamiltonian_cycle_finder(graph, source)\n",
        "  if (type(result)==bool):\n",
        "    print(\"No hamiltonian cycle found in the graph\")\n",
        "  else:\n",
        "    for node in result:\n",
        "      print(f\"{node}\")"
      ]
    },
    {
      "cell_type": "code",
      "source": [
        "graph1 = [\n",
        "      [0, 1, 0, 1],\n",
        "      [1, 0, 1, 0],\n",
        "      [0, 1, 0, 1],\n",
        "      [1, 0, 1, 0]\n",
        "  ]\n",
        "graph2 = [\n",
        "    [0, 1, 1, 1, 1],\n",
        "    [1, 0, 0, 0, 0],\n",
        "    [1, 0, 0, 0, 0],\n",
        "    [1, 0, 0, 0, 0],\n",
        "    [1, 0, 0, 0, 0]\n",
        "  ]"
      ],
      "metadata": {
        "id": "W0AImlnIvYUQ"
      },
      "execution_count": 35,
      "outputs": []
    },
    {
      "cell_type": "code",
      "source": [
        "source = 0"
      ],
      "metadata": {
        "id": "NJfujw8yxQHX"
      },
      "execution_count": 36,
      "outputs": []
    },
    {
      "cell_type": "code",
      "source": [
        "main(graph2,source)"
      ],
      "metadata": {
        "colab": {
          "base_uri": "https://localhost:8080/"
        },
        "id": "GsmWI_jFxN3U",
        "outputId": "50945c2c-a5e8-47f7-b035-fe2a7f5ed01b"
      },
      "execution_count": 38,
      "outputs": [
        {
          "output_type": "stream",
          "name": "stdout",
          "text": [
            "No hamiltonian cycle found in the graph\n"
          ]
        }
      ]
    }
  ]
}