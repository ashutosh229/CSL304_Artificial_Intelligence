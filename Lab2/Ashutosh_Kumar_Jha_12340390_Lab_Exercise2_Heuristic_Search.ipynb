{
  "nbformat": 4,
  "nbformat_minor": 0,
  "metadata": {
    "colab": {
      "provenance": []
    },
    "kernelspec": {
      "name": "python3",
      "display_name": "Python 3"
    },
    "language_info": {
      "name": "python"
    }
  },
  "cells": [
    {
      "cell_type": "code",
      "execution_count": 1,
      "metadata": {
        "id": "dt5zAuuJnvJN"
      },
      "outputs": [],
      "source": [
        "import heapq"
      ]
    },
    {
      "cell_type": "code",
      "source": [
        "class HamiltonianCycle:\n",
        "    def __init__(self, graph):\n",
        "        self.graph = graph\n",
        "        self.n = len(graph)\n",
        "\n",
        "    def heuristic(self, path):\n",
        "        return self.n - len(path)\n",
        "\n",
        "    def best_first_search(self, start=0):\n",
        "        pq = [(self.heuristic([start]), [start])]\n",
        "\n",
        "        while pq:\n",
        "            _, path = heapq.heappop(pq)\n",
        "            if len(path) == self.n and self.graph[path[-1]][path[0]] == 1:\n",
        "                return path + [path[0]]\n",
        "            for v in range(self.n):\n",
        "                if self.graph[path[-1]][v] == 1 and v not in path:\n",
        "                    new_path = path + [v]\n",
        "                    heapq.heappush(pq, (self.heuristic(new_path), new_path))\n",
        "\n",
        "        return None"
      ],
      "metadata": {
        "id": "l5yd37Hrovgp"
      },
      "execution_count": 2,
      "outputs": []
    },
    {
      "cell_type": "code",
      "source": [
        "def main(graph,start):\n",
        "  hc = HamiltonianCycle(graph)\n",
        "  path = hc.best_first_search(start)\n",
        "  if (path==None):\n",
        "    print(\"No hamiltonian cycle is found in the graph\")\n",
        "  else:\n",
        "    print(\"Hamiltonian cycle is found in the graph\")\n",
        "    print(\"The cycle is:\")\n",
        "    for node in path:\n",
        "      print(node)"
      ],
      "metadata": {
        "id": "fDBenQ_Tpfi2"
      },
      "execution_count": 8,
      "outputs": []
    },
    {
      "cell_type": "code",
      "source": [
        "graph1 = [\n",
        "    [0, 1, 0, 1],\n",
        "    [1, 0, 1, 0],\n",
        "    [0, 1, 0, 1],\n",
        "    [1, 0, 1, 0]\n",
        "]"
      ],
      "metadata": {
        "id": "QXXI2zqCp5Zk"
      },
      "execution_count": 9,
      "outputs": []
    },
    {
      "cell_type": "code",
      "source": [
        "graph2 = [\n",
        "    [0, 1, 1, 1, 1],\n",
        "    [1, 0, 0, 0, 0],\n",
        "    [1, 0, 0, 0, 0],\n",
        "    [1, 0, 0, 0, 0],\n",
        "    [1, 0, 0, 0, 0]\n",
        "]"
      ],
      "metadata": {
        "id": "nM8UeYfop-lX"
      },
      "execution_count": 10,
      "outputs": []
    },
    {
      "cell_type": "code",
      "source": [
        "start = 0"
      ],
      "metadata": {
        "id": "muzuZjPip_bU"
      },
      "execution_count": 11,
      "outputs": []
    },
    {
      "cell_type": "code",
      "source": [
        "main(graph1,start)"
      ],
      "metadata": {
        "colab": {
          "base_uri": "https://localhost:8080/"
        },
        "id": "dpbTmU5XqAkL",
        "outputId": "8b2bfe82-d9c3-47dc-dd1a-2234374ae0f3"
      },
      "execution_count": 14,
      "outputs": [
        {
          "output_type": "stream",
          "name": "stdout",
          "text": [
            "Hamiltonian cycle is found in the graph\n",
            "The cycle is:\n",
            "0\n",
            "1\n",
            "2\n",
            "3\n",
            "0\n"
          ]
        }
      ]
    }
  ]
}