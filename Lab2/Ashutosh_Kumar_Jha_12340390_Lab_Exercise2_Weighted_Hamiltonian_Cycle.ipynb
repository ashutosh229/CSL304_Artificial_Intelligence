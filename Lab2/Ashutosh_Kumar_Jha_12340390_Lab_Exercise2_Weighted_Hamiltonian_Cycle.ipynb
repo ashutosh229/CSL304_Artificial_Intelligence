{
  "nbformat": 4,
  "nbformat_minor": 0,
  "metadata": {
    "colab": {
      "provenance": []
    },
    "kernelspec": {
      "name": "python3",
      "display_name": "Python 3"
    },
    "language_info": {
      "name": "python"
    }
  },
  "cells": [
    {
      "cell_type": "code",
      "source": [
        "import heapq"
      ],
      "metadata": {
        "id": "AAGNsbcTqw9e"
      },
      "execution_count": 22,
      "outputs": []
    },
    {
      "cell_type": "code",
      "execution_count": 23,
      "metadata": {
        "id": "GXVzYi8tqUQi"
      },
      "outputs": [],
      "source": [
        "class TSPSolver:\n",
        "    def __init__(self, graph):\n",
        "        self.graph = graph\n",
        "        self.n = len(graph)\n",
        "\n",
        "    def heuristic(self, current, visited):\n",
        "        unvisited = [v for v in range(self.n) if v not in visited]\n",
        "        if not unvisited:\n",
        "            return self.graph[current][0] if self.graph[current][0] > 0 else float('inf')\n",
        "        min_edge = float('inf')\n",
        "        for u in range(self.n):\n",
        "            for v in range(self.n):\n",
        "                if u != v and self.graph[u][v] > 0:\n",
        "                    min_edge = min(min_edge, self.graph[u][v])\n",
        "        if min_edge == float('inf'):\n",
        "            return float('inf')\n",
        "        return min_edge * (len(unvisited) + 1)\n",
        "\n",
        "    def solve(self, start=0):\n",
        "        pq = []\n",
        "        heapq.heappush(pq, (0, 0, start, [start], {start}))\n",
        "        best_path, best_cost = None, float('inf')\n",
        "        while pq:\n",
        "            f, g, current, path, visited = heapq.heappop(pq)\n",
        "            if len(visited) == self.n and self.graph[current][start] > 0:\n",
        "                total_cost = g + self.graph[current][start]\n",
        "                if total_cost < best_cost:\n",
        "                    best_cost = total_cost\n",
        "                    best_path = path + [start]\n",
        "                continue\n",
        "            for v in range(self.n):\n",
        "                if self.graph[current][v] > 0 and v not in visited:\n",
        "                    new_g = g + self.graph[current][v]\n",
        "                    new_visited = set(visited)\n",
        "                    new_visited.add(v)\n",
        "                    h = self.heuristic(v, new_visited)\n",
        "                    if h == float('inf'):\n",
        "                        continue\n",
        "                    new_f = new_g + h\n",
        "                    heapq.heappush(pq, (new_f, new_g, v, path + [v], new_visited))\n",
        "\n",
        "        if best_path is None:\n",
        "            return None, None\n",
        "        return best_path, best_cost"
      ]
    },
    {
      "cell_type": "code",
      "source": [
        "def main(graph,start):\n",
        "  solver = TSPSolver(graph)\n",
        "  path, cost = solver.solve(start)\n",
        "  if path is None:\n",
        "    print(\"No hamiltonian cycle found in the graph\")\n",
        "  else:\n",
        "    print(\"Lowest Cost Hamiltonian Cycle:\", path)\n",
        "    print(\"Total Cost:\", cost)"
      ],
      "metadata": {
        "id": "hC6gnem3rfY1"
      },
      "execution_count": 24,
      "outputs": []
    },
    {
      "cell_type": "code",
      "source": [
        "graph1 = [\n",
        "    [0, 10, 15, 20],\n",
        "    [10, 0, 35, 25],\n",
        "    [15, 35, 0, 30],\n",
        "    [20, 25, 30, 0]\n",
        "]"
      ],
      "metadata": {
        "id": "Ds5IlIdk3xmX"
      },
      "execution_count": 25,
      "outputs": []
    },
    {
      "cell_type": "code",
      "source": [
        "graph2 = [\n",
        "    [0, 10, 0, 0],\n",
        "    [10, 0, 20, 0],\n",
        "    [0, 20, 0, 30],\n",
        "    [0, 0, 30, 0]\n",
        "]"
      ],
      "metadata": {
        "id": "hkBnOhrS5CYB"
      },
      "execution_count": 26,
      "outputs": []
    },
    {
      "cell_type": "code",
      "source": [
        "main(graph1,0)"
      ],
      "metadata": {
        "colab": {
          "base_uri": "https://localhost:8080/"
        },
        "id": "BdM8-Uho30u3",
        "outputId": "9be540eb-3483-4ef2-eccc-cb02a786dcfc"
      },
      "execution_count": 27,
      "outputs": [
        {
          "output_type": "stream",
          "name": "stdout",
          "text": [
            "Lowest Cost Hamiltonian Cycle: [0, 1, 3, 2, 0]\n",
            "Total Cost: 80\n"
          ]
        }
      ]
    },
    {
      "cell_type": "code",
      "source": [
        "main(graph2,0)"
      ],
      "metadata": {
        "colab": {
          "base_uri": "https://localhost:8080/"
        },
        "id": "APLbrxpt5Ebb",
        "outputId": "ece0c595-bfba-44d1-e98b-a2da9ac8d3c2"
      },
      "execution_count": 28,
      "outputs": [
        {
          "output_type": "stream",
          "name": "stdout",
          "text": [
            "No hamiltonian cycle found in the graph\n"
          ]
        }
      ]
    }
  ]
}