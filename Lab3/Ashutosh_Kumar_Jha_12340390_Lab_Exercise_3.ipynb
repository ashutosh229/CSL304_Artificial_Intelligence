{
  "nbformat": 4,
  "nbformat_minor": 0,
  "metadata": {
    "colab": {
      "provenance": [],
      "gpuType": "T4"
    },
    "kernelspec": {
      "name": "python3",
      "display_name": "Python 3"
    },
    "language_info": {
      "name": "python"
    },
    "accelerator": "GPU"
  },
  "cells": [
    {
      "cell_type": "code",
      "execution_count": 32,
      "metadata": {
        "id": "iPbt7zQmwVRu"
      },
      "outputs": [],
      "source": [
        "import random\n",
        "import math"
      ]
    },
    {
      "cell_type": "code",
      "source": [
        "def calculate_conflicts(state):\n",
        "    conflicts = 0\n",
        "    n = len(state)\n",
        "    for i in range(n):\n",
        "        for j in range(i + 1, n):\n",
        "            if state[i] == state[j]:\n",
        "                conflicts += 1\n",
        "            elif abs(state[i] - state[j]) == abs(i - j):\n",
        "                conflicts += 1\n",
        "    return conflicts"
      ],
      "metadata": {
        "id": "bpxNjpv7wcPh"
      },
      "execution_count": 31,
      "outputs": []
    },
    {
      "cell_type": "code",
      "source": [
        "def generate_neighbor(state):\n",
        "    n = len(state)\n",
        "    new_state = state[:]\n",
        "    col = random.randint(0, n - 1)\n",
        "    new_row = random.randint(1, n)\n",
        "    new_state[col] = new_row\n",
        "    return new_state"
      ],
      "metadata": {
        "id": "VCT1KWcjwgin"
      },
      "execution_count": 30,
      "outputs": []
    },
    {
      "cell_type": "code",
      "source": [
        "def simulated_annealing(n=8, T=1000, alpha=0.95, stopping_T=1e-3, max_iter=1000):\n",
        "    current_state = [random.randint(1, n) for _ in range(n)]\n",
        "    current_conflicts = calculate_conflicts(current_state)\n",
        "    best_state = current_state[:]\n",
        "    best_conflicts = current_conflicts\n",
        "    iteration = 0\n",
        "    while T > stopping_T and iteration < max_iter and best_conflicts != 0:\n",
        "        neighbor = generate_neighbor(current_state)\n",
        "        neighbor_conflicts = calculate_conflicts(neighbor)\n",
        "        delta = neighbor_conflicts - current_conflicts\n",
        "        if delta < 0 or random.uniform(0, 1) < math.exp(-delta / T):\n",
        "            current_state = neighbor\n",
        "            current_conflicts = neighbor_conflicts\n",
        "            if current_conflicts < best_conflicts:\n",
        "                best_state = current_state[:]\n",
        "                best_conflicts = current_conflicts\n",
        "        T *= alpha\n",
        "        iteration += 1\n",
        "    return best_state, best_conflicts"
      ],
      "metadata": {
        "id": "BLqYQwgCwj08"
      },
      "execution_count": 29,
      "outputs": []
    },
    {
      "cell_type": "code",
      "source": [
        "if __name__ == \"__main__\":\n",
        "    solution, conflicts = simulated_annealing()\n",
        "    print(\"Final Solution (Queen positions by column):\", solution)\n",
        "    print(\"Number of Conflicts:\", conflicts)\n",
        "    if conflicts == 0:\n",
        "        print(\"Found a valid 8-Queens solution\")\n",
        "    else:\n",
        "        print(\"Did not find a conflict-free solution, but reached near-optimal\")"
      ],
      "metadata": {
        "colab": {
          "base_uri": "https://localhost:8080/"
        },
        "id": "K086epxuwmJe",
        "outputId": "36eb592f-96c5-4a10-ead9-e16729eb5498"
      },
      "execution_count": 28,
      "outputs": [
        {
          "output_type": "stream",
          "name": "stdout",
          "text": [
            "Final Solution (Queen positions by column): [7, 2, 8, 5, 7, 1, 3, 6]\n",
            "Number of Conflicts: 1\n",
            "Did not find a conflict-free solution, but reached near-optimal\n"
          ]
        }
      ]
    }
  ]
}