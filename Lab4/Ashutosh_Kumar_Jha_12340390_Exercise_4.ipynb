{
  "nbformat": 4,
  "nbformat_minor": 0,
  "metadata": {
    "colab": {
      "provenance": [],
      "gpuType": "T4"
    },
    "kernelspec": {
      "name": "python3",
      "display_name": "Python 3"
    },
    "language_info": {
      "name": "python"
    },
    "accelerator": "GPU"
  },
  "cells": [
    {
      "cell_type": "code",
      "execution_count": 46,
      "metadata": {
        "id": "4HrI2GBXx31n"
      },
      "outputs": [],
      "source": [
        "from typing import Tuple, List"
      ]
    },
    {
      "cell_type": "code",
      "source": [
        "ab_stats = {\"explored\": 0, \"pruned\": 0}\n",
        "mm_stats = {\"explored\": 0}"
      ],
      "metadata": {
        "id": "3EiEnaJoyYsD"
      },
      "execution_count": 47,
      "outputs": []
    },
    {
      "cell_type": "code",
      "source": [
        "def is_terminal(state):\n",
        "    return all(s == 0 for s in state)"
      ],
      "metadata": {
        "id": "xRPG6Yk8yZ60"
      },
      "execution_count": 48,
      "outputs": []
    },
    {
      "cell_type": "code",
      "source": [
        "def utility(state, maximizing_to_move):\n",
        "    return -1 if maximizing_to_move else 1"
      ],
      "metadata": {
        "id": "qo2aFIgDydAD"
      },
      "execution_count": 49,
      "outputs": []
    },
    {
      "cell_type": "code",
      "source": [
        "def successors(state):\n",
        "    succs = []\n",
        "    for i, heap in enumerate(state):\n",
        "        for remove in range(1, heap + 1):\n",
        "            new_heap = list(state)\n",
        "            new_heap[i] -= remove\n",
        "            succs.append(tuple(new_heap))\n",
        "    return succs"
      ],
      "metadata": {
        "id": "dck9Gq-UyerI"
      },
      "execution_count": 50,
      "outputs": []
    },
    {
      "cell_type": "code",
      "source": [
        "def minimax(state, maximizing_to_move):\n",
        "    mm_stats[\"explored\"] += 1\n",
        "    if is_terminal(state):\n",
        "        return utility(state, maximizing_to_move)\n",
        "    if maximizing_to_move:\n",
        "        v = -float(\"inf\")\n",
        "        for succ in successors(state):\n",
        "            v = max(v, minimax(succ, False))\n",
        "        return v\n",
        "    else:\n",
        "        v = float(\"inf\")\n",
        "        for succ in successors(state):\n",
        "            v = min(v, minimax(succ, True))\n",
        "        return v"
      ],
      "metadata": {
        "id": "g6QFhh2oygpZ"
      },
      "execution_count": 51,
      "outputs": []
    },
    {
      "cell_type": "code",
      "source": [
        "def alphabeta(state, maximizing_to_move, alpha, beta):\n",
        "    ab_stats[\"explored\"] += 1\n",
        "    if is_terminal(state):\n",
        "        return utility(state, maximizing_to_move)\n",
        "    if maximizing_to_move:\n",
        "        v = -float(\"inf\")\n",
        "        for succ in successors(state):\n",
        "            val = alphabeta(succ, False, alpha, beta)\n",
        "            if val > v:\n",
        "                v = val\n",
        "            if v > alpha:\n",
        "                alpha = v\n",
        "            if alpha >= beta:\n",
        "                ab_stats[\"pruned\"] += 1\n",
        "                break\n",
        "        return v\n",
        "    else:\n",
        "        v = float(\"inf\")\n",
        "        for succ in successors(state):\n",
        "            val = alphabeta(succ, True, alpha, beta)\n",
        "            if val < v:\n",
        "                v = val\n",
        "            if v < beta:\n",
        "                beta = v\n",
        "            if alpha >= beta:\n",
        "                ab_stats[\"pruned\"] += 1\n",
        "                break\n",
        "        return v"
      ],
      "metadata": {
        "id": "eFHdc7HKyjmF"
      },
      "execution_count": 52,
      "outputs": []
    },
    {
      "cell_type": "code",
      "source": [
        "def find_best_move_alphabeta(initial_state):\n",
        "    best_val = -float(\"inf\")\n",
        "    best_move = None\n",
        "    alpha = -float(\"inf\")\n",
        "    beta = float(\"inf\")\n",
        "    for succ in successors(initial_state):\n",
        "        val = alphabeta(succ, False, alpha, beta)\n",
        "        if val > best_val:\n",
        "            best_val = val\n",
        "            best_move = succ\n",
        "        if best_val > alpha:\n",
        "            alpha = best_val\n",
        "    return best_move, int(best_val)"
      ],
      "metadata": {
        "id": "_IZVM-SYymYa"
      },
      "execution_count": 53,
      "outputs": []
    },
    {
      "cell_type": "code",
      "source": [
        "def find_best_move_minimax(initial_state):\n",
        "    best_val = -float(\"inf\")\n",
        "    best_move = None\n",
        "    for succ in successors(initial_state):\n",
        "        val = minimax(succ, False)\n",
        "        if val > best_val:\n",
        "            best_val = val\n",
        "            best_move = succ\n",
        "    return best_move, int(best_val)"
      ],
      "metadata": {
        "id": "rRceB0rCypMn"
      },
      "execution_count": 54,
      "outputs": []
    },
    {
      "cell_type": "code",
      "source": [
        "if __name__ == \"__main__\":\n",
        "    initial_state = (3, 4, 5)\n",
        "    ab_stats[\"explored\"] = 0\n",
        "    ab_stats[\"pruned\"] = 0\n",
        "    best_move_ab, val_ab = find_best_move_alphabeta(initial_state)\n",
        "    mm_stats[\"explored\"] = 0\n",
        "    best_move_mm, val_mm = find_best_move_minimax(initial_state)\n",
        "    print(\"Initial State:\", initial_state)\n",
        "    print(\"\\nAlpha-Beta result:\")\n",
        "    print(\" Best move:\", initial_state, \"->\", best_move_ab)\n",
        "    print(\" Outcome (utility):\", val_ab)\n",
        "    print(\" Nodes Explored (Alpha-Beta):\", ab_stats[\"explored\"])\n",
        "    print(\" Nodes Pruned (Alpha-Beta):\", ab_stats[\"pruned\"])\n",
        "    print(\"\\nPlain Minimax result:\")\n",
        "    print(\" Best move:\", initial_state, \"->\", best_move_mm)\n",
        "    print(\" Outcome (utility):\", val_mm)\n",
        "    print(\" Nodes Explored (Minimax):\", mm_stats[\"explored\"])\n",
        "    print(\"\\nSummary:\")\n",
        "    print(f\" Alpha-Beta explored {ab_stats['explored']} nodes and pruned {ab_stats['pruned']} branches.\")\n",
        "    print(f\" Plain Minimax explored {mm_stats['explored']} nodes. Reduction: {mm_stats['explored'] - ab_stats['explored']} nodes.\")"
      ],
      "metadata": {
        "colab": {
          "base_uri": "https://localhost:8080/"
        },
        "id": "aHAxdX7-ysyU",
        "outputId": "939fddae-a4fe-4a2d-a1d9-3b5487e6d468"
      },
      "execution_count": 55,
      "outputs": [
        {
          "output_type": "stream",
          "name": "stdout",
          "text": [
            "Initial State: (3, 4, 5)\n",
            "\n",
            "Alpha-Beta result:\n",
            " Best move: (3, 4, 5) -> (1, 4, 5)\n",
            " Outcome (utility): 1\n",
            " Nodes Explored (Alpha-Beta): 33915\n",
            " Nodes Pruned (Alpha-Beta): 15890\n",
            "\n",
            "Plain Minimax result:\n",
            " Best move: (3, 4, 5) -> (1, 4, 5)\n",
            " Outcome (utility): 1\n",
            " Nodes Explored (Minimax): 1038767\n",
            "\n",
            "Summary:\n",
            " Alpha-Beta explored 33915 nodes and pruned 15890 branches.\n",
            " Plain Minimax explored 1038767 nodes. Reduction: 1004852 nodes.\n"
          ]
        }
      ]
    }
  ]
}